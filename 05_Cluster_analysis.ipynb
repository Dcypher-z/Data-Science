{
 "cells": [
  {
   "cell_type": "code",
   "execution_count": 131,
   "metadata": {},
   "outputs": [],
   "source": [
    "import pandas as pd\n",
    "import numpy as np\n",
    "import seaborn as sns\n",
    "import matplotlib.pyplot as plt\n",
    "from sklearn.cluster import KMeans\n",
    "from sklearn.metrics import silhouette_score"
   ]
  },
  {
   "cell_type": "code",
   "execution_count": 111,
   "metadata": {},
   "outputs": [],
   "source": [
    "#cluster analysis is unsupervised learning example\n",
    "#doing analysis for estimates value\n",
    "df = pd.read_csv('single_family_home_values.csv')"
   ]
  },
  {
   "cell_type": "code",
   "execution_count": 112,
   "metadata": {},
   "outputs": [
    {
     "data": {
      "text/html": [
       "<div>\n",
       "<style scoped>\n",
       "    .dataframe tbody tr th:only-of-type {\n",
       "        vertical-align: middle;\n",
       "    }\n",
       "\n",
       "    .dataframe tbody tr th {\n",
       "        vertical-align: top;\n",
       "    }\n",
       "\n",
       "    .dataframe thead th {\n",
       "        text-align: right;\n",
       "    }\n",
       "</style>\n",
       "<table border=\"1\" class=\"dataframe\">\n",
       "  <thead>\n",
       "    <tr style=\"text-align: right;\">\n",
       "      <th></th>\n",
       "      <th>id</th>\n",
       "      <th>address</th>\n",
       "      <th>city</th>\n",
       "      <th>state</th>\n",
       "      <th>zipcode</th>\n",
       "      <th>latitude</th>\n",
       "      <th>longitude</th>\n",
       "      <th>bedrooms</th>\n",
       "      <th>bathrooms</th>\n",
       "      <th>rooms</th>\n",
       "      <th>squareFootage</th>\n",
       "      <th>lotSize</th>\n",
       "      <th>yearBuilt</th>\n",
       "      <th>lastSaleDate</th>\n",
       "      <th>lastSaleAmount</th>\n",
       "      <th>priorSaleDate</th>\n",
       "      <th>priorSaleAmount</th>\n",
       "    </tr>\n",
       "  </thead>\n",
       "  <tbody>\n",
       "    <tr>\n",
       "      <th>0</th>\n",
       "      <td>39525749</td>\n",
       "      <td>8171 E 84th Ave</td>\n",
       "      <td>Denver</td>\n",
       "      <td>CO</td>\n",
       "      <td>80022</td>\n",
       "      <td>39.84916</td>\n",
       "      <td>-104.893468</td>\n",
       "      <td>3</td>\n",
       "      <td>2.0</td>\n",
       "      <td>6</td>\n",
       "      <td>1378</td>\n",
       "      <td>9968</td>\n",
       "      <td>2003.0</td>\n",
       "      <td>2009-12-17</td>\n",
       "      <td>75000</td>\n",
       "      <td>2004-05-13</td>\n",
       "      <td>165700.0</td>\n",
       "    </tr>\n",
       "    <tr>\n",
       "      <th>1</th>\n",
       "      <td>184578398</td>\n",
       "      <td>10556 Wheeling St</td>\n",
       "      <td>Denver</td>\n",
       "      <td>CO</td>\n",
       "      <td>80022</td>\n",
       "      <td>39.88802</td>\n",
       "      <td>-104.830930</td>\n",
       "      <td>2</td>\n",
       "      <td>2.0</td>\n",
       "      <td>6</td>\n",
       "      <td>1653</td>\n",
       "      <td>6970</td>\n",
       "      <td>2004.0</td>\n",
       "      <td>2004-09-23</td>\n",
       "      <td>216935</td>\n",
       "      <td>NaN</td>\n",
       "      <td>NaN</td>\n",
       "    </tr>\n",
       "  </tbody>\n",
       "</table>\n",
       "</div>"
      ],
      "text/plain": [
       "          id            address    city state  zipcode  latitude   longitude  \\\n",
       "0   39525749    8171 E 84th Ave  Denver    CO    80022  39.84916 -104.893468   \n",
       "1  184578398  10556 Wheeling St  Denver    CO    80022  39.88802 -104.830930   \n",
       "\n",
       "   bedrooms  bathrooms  rooms  squareFootage  lotSize  yearBuilt lastSaleDate  \\\n",
       "0         3        2.0      6           1378     9968     2003.0   2009-12-17   \n",
       "1         2        2.0      6           1653     6970     2004.0   2004-09-23   \n",
       "\n",
       "   lastSaleAmount priorSaleDate  priorSaleAmount  \n",
       "0           75000    2004-05-13         165700.0  \n",
       "1          216935           NaN              NaN  "
      ]
     },
     "execution_count": 112,
     "metadata": {},
     "output_type": "execute_result"
    }
   ],
   "source": [
    "X = df.drop(columns=['estimated_value'])\n",
    "X.head(2)"
   ]
  },
  {
   "cell_type": "code",
   "execution_count": 113,
   "metadata": {},
   "outputs": [],
   "source": [
    "X = X[['bedrooms','bathrooms','rooms','squareFootage','lotSize','yearBuilt','priorSaleAmount']]#slicing all these columns are they are inportant in determination of estimated value"
   ]
  },
  {
   "cell_type": "code",
   "execution_count": 114,
   "metadata": {},
   "outputs": [
    {
     "name": "stdout",
     "output_type": "stream",
     "text": [
      "<class 'pandas.core.frame.DataFrame'>\n",
      "RangeIndex: 15000 entries, 0 to 14999\n",
      "Data columns (total 7 columns):\n",
      " #   Column           Non-Null Count  Dtype  \n",
      "---  ------           --------------  -----  \n",
      " 0   bedrooms         15000 non-null  int64  \n",
      " 1   bathrooms        15000 non-null  float64\n",
      " 2   rooms            15000 non-null  int64  \n",
      " 3   squareFootage    15000 non-null  int64  \n",
      " 4   lotSize          15000 non-null  int64  \n",
      " 5   yearBuilt        14999 non-null  float64\n",
      " 6   priorSaleAmount  11287 non-null  float64\n",
      "dtypes: float64(3), int64(4)\n",
      "memory usage: 820.4 KB\n"
     ]
    }
   ],
   "source": [
    "X.info()"
   ]
  },
  {
   "cell_type": "code",
   "execution_count": 115,
   "metadata": {},
   "outputs": [
    {
     "name": "stdout",
     "output_type": "stream",
     "text": [
      "<class 'pandas.core.frame.DataFrame'>\n",
      "Int64Index: 11286 entries, 0 to 14999\n",
      "Data columns (total 7 columns):\n",
      " #   Column           Non-Null Count  Dtype  \n",
      "---  ------           --------------  -----  \n",
      " 0   bedrooms         11286 non-null  int64  \n",
      " 1   bathrooms        11286 non-null  float64\n",
      " 2   rooms            11286 non-null  int64  \n",
      " 3   squareFootage    11286 non-null  int64  \n",
      " 4   lotSize          11286 non-null  int64  \n",
      " 5   yearBuilt        11286 non-null  float64\n",
      " 6   priorSaleAmount  11286 non-null  float64\n",
      "dtypes: float64(3), int64(4)\n",
      "memory usage: 705.4 KB\n",
      "<class 'pandas.core.frame.DataFrame'>\n",
      "RangeIndex: 15000 entries, 0 to 14999\n",
      "Data columns (total 7 columns):\n",
      " #   Column           Non-Null Count  Dtype  \n",
      "---  ------           --------------  -----  \n",
      " 0   bedrooms         15000 non-null  int64  \n",
      " 1   bathrooms        15000 non-null  float64\n",
      " 2   rooms            15000 non-null  int64  \n",
      " 3   squareFootage    15000 non-null  int64  \n",
      " 4   lotSize          15000 non-null  int64  \n",
      " 5   yearBuilt        15000 non-null  float64\n",
      " 6   priorSaleAmount  15000 non-null  float64\n",
      "dtypes: float64(3), int64(4)\n",
      "memory usage: 820.4 KB\n",
      "KMeans(n_clusters=5, random_state=0)\n",
      "KMeans(n_clusters=3, random_state=0)\n"
     ]
    }
   ],
   "source": [
    "#Now as priorSaleAmount has Nan values we can either drop those rows or we can fill them with 0\n",
    "#fillin with mean doesnt make much sense here\n",
    "Y = X.dropna()\n",
    "Z = X.fillna(0)\n",
    "Y.info()\n",
    "Z.info()\n",
    "kmean1 = KMeans(n_clusters=5, random_state=0).fit(Y)\n",
    "print(kmean1)\n",
    "kmean2 = KMeans(n_clusters=3, random_state=0).fit(Z)\n",
    "print(kmean2)\n"
   ]
  },
  {
   "cell_type": "code",
   "execution_count": 116,
   "metadata": {},
   "outputs": [],
   "source": [
    "label1 = kmean1.labels_ # gives 1st data point belongs to classer 0, second data point belong to classer 0 and so on\n",
    "label2 = kmean2.labels_"
   ]
  },
  {
   "cell_type": "code",
   "execution_count": 117,
   "metadata": {},
   "outputs": [
    {
     "name": "stdout",
     "output_type": "stream",
     "text": [
      "[[2.53790902e+00 1.80766161e+00 5.54158021e+00 1.23129976e+03\n",
      "  5.66326049e+03 1.93070806e+03 1.11229370e+05]\n",
      " [3.88750000e+00 5.78750000e+00 1.04500000e+01 4.67066250e+03\n",
      "  1.38135250e+04 1.96363750e+03 2.49937409e+06]\n",
      " [3.42510121e+00 4.17206478e+00 8.79757085e+00 3.01997166e+03\n",
      "  7.46685830e+03 1.95017206e+03 8.80774298e+05]\n",
      " [3.00000000e+00 4.50000000e+00 9.00000000e+00 3.74800000e+03\n",
      "  8.59750000e+03 1.99800000e+03 1.37500550e+07]\n",
      " [2.78492688e+00 2.48976378e+00 6.55230596e+00 1.61027109e+03\n",
      "  5.40694016e+03 1.92404004e+03 3.52914728e+05]]\n",
      "------------------------------------------------------\n",
      "[3.69230769e+00 5.61538462e+00 1.03557692e+01 4.48931731e+03\n",
      " 1.26605865e+04 1.96913462e+03 2.52178569e+06]\n"
     ]
    }
   ],
   "source": [
    "# gives center for each column in same classer like for 0 classer->center of each 7 column and same for other classers\n",
    "print(kmean1.cluster_centers_)\n",
    "print('------------------------------------------------------')\n",
    "print(kmean2.cluster_centers_[1])# classer 1 centers"
   ]
  },
  {
   "cell_type": "code",
   "execution_count": 118,
   "metadata": {},
   "outputs": [
    {
     "name": "stdout",
     "output_type": "stream",
     "text": [
      "(5, 7)\n",
      "(3, 7)\n"
     ]
    }
   ],
   "source": [
    "print(kmean1.cluster_centers_.shape) # 5 classers and 7 columns\n",
    "print(kmean2.cluster_centers_.shape) # 3 classers and 7 columns"
   ]
  },
  {
   "cell_type": "code",
   "execution_count": 119,
   "metadata": {},
   "outputs": [
    {
     "name": "stdout",
     "output_type": "stream",
     "text": [
      "    bedrooms  bathrooms  rooms  squareFootage  lotSize  yearBuilt  \\\n",
      "0          3        2.0      6           1378     9968     2003.0   \n",
      "3          4        3.0      0           2400    11500     1956.0   \n",
      "4          3        4.0      8           2305     5600     1998.0   \n",
      "5          3        5.0      7           2051     6045     1996.0   \n",
      "6          4        4.0      8           2051     6315     1997.0   \n",
      "7          3        3.0      7           2051     8133     1997.0   \n",
      "8          3        3.0      7           1796     5038     1999.0   \n",
      "9          3        3.0      0           2054     4050     2007.0   \n",
      "10         3        4.0      7           2568     6397     2000.0   \n",
      "11         3        2.0      6           1290     9000     1962.0   \n",
      "\n",
      "    priorSaleAmount  cluster  \n",
      "0          165700.0        0  \n",
      "3               0.0        0  \n",
      "4               0.0        0  \n",
      "5          339000.0        4  \n",
      "6          345000.0        4  \n",
      "7          225200.0        0  \n",
      "8               0.0        0  \n",
      "9          312000.0        4  \n",
      "10         530000.0        4  \n",
      "11         171000.0        0  \n",
      "   bedrooms  bathrooms  rooms  squareFootage  lotSize  yearBuilt  \\\n",
      "0         3        2.0      6           1378     9968     2003.0   \n",
      "1         2        2.0      6           1653     6970     2004.0   \n",
      "2         3        1.0      0           1882    23875     1917.0   \n",
      "3         4        3.0      0           2400    11500     1956.0   \n",
      "4         3        4.0      8           2305     5600     1998.0   \n",
      "5         3        5.0      7           2051     6045     1996.0   \n",
      "6         4        4.0      8           2051     6315     1997.0   \n",
      "7         3        3.0      7           2051     8133     1997.0   \n",
      "8         3        3.0      7           1796     5038     1999.0   \n",
      "9         3        3.0      0           2054     4050     2007.0   \n",
      "\n",
      "   priorSaleAmount  cluster  \n",
      "0         165700.0        0  \n",
      "1              0.0        0  \n",
      "2              0.0        0  \n",
      "3              0.0        0  \n",
      "4              0.0        0  \n",
      "5         339000.0        2  \n",
      "6         345000.0        2  \n",
      "7         225200.0        0  \n",
      "8              0.0        0  \n",
      "9         312000.0        2  \n"
     ]
    },
    {
     "name": "stderr",
     "output_type": "stream",
     "text": [
      "C:\\Users\\hp\\AppData\\Local\\Temp/ipykernel_5200/1383257832.py:1: SettingWithCopyWarning: \n",
      "A value is trying to be set on a copy of a slice from a DataFrame.\n",
      "Try using .loc[row_indexer,col_indexer] = value instead\n",
      "\n",
      "See the caveats in the documentation: https://pandas.pydata.org/pandas-docs/stable/user_guide/indexing.html#returning-a-view-versus-a-copy\n",
      "  Y['cluster'] = label1\n"
     ]
    }
   ],
   "source": [
    "Y['cluster'] = label1\n",
    "Z['cluster'] = label2\n",
    "print(Y.head(10))\n",
    "print(Z.head(10))"
   ]
  },
  {
   "cell_type": "code",
   "execution_count": 120,
   "metadata": {},
   "outputs": [
    {
     "data": {
      "text/html": [
       "<div>\n",
       "<style scoped>\n",
       "    .dataframe tbody tr th:only-of-type {\n",
       "        vertical-align: middle;\n",
       "    }\n",
       "\n",
       "    .dataframe tbody tr th {\n",
       "        vertical-align: top;\n",
       "    }\n",
       "\n",
       "    .dataframe thead th {\n",
       "        text-align: right;\n",
       "    }\n",
       "</style>\n",
       "<table border=\"1\" class=\"dataframe\">\n",
       "  <thead>\n",
       "    <tr style=\"text-align: right;\">\n",
       "      <th></th>\n",
       "      <th>bedrooms</th>\n",
       "      <th>bathrooms</th>\n",
       "      <th>rooms</th>\n",
       "      <th>squareFootage</th>\n",
       "      <th>lotSize</th>\n",
       "      <th>yearBuilt</th>\n",
       "      <th>priorSaleAmount</th>\n",
       "    </tr>\n",
       "    <tr>\n",
       "      <th>cluster</th>\n",
       "      <th></th>\n",
       "      <th></th>\n",
       "      <th></th>\n",
       "      <th></th>\n",
       "      <th></th>\n",
       "      <th></th>\n",
       "      <th></th>\n",
       "    </tr>\n",
       "  </thead>\n",
       "  <tbody>\n",
       "    <tr>\n",
       "      <th>0</th>\n",
       "      <td>2.537921</td>\n",
       "      <td>1.807441</td>\n",
       "      <td>5.541593</td>\n",
       "      <td>1231.241418</td>\n",
       "      <td>5663.122625</td>\n",
       "      <td>1930.709883</td>\n",
       "      <td>1.111907e+05</td>\n",
       "    </tr>\n",
       "    <tr>\n",
       "      <th>1</th>\n",
       "      <td>3.887500</td>\n",
       "      <td>5.787500</td>\n",
       "      <td>10.450000</td>\n",
       "      <td>4670.662500</td>\n",
       "      <td>13813.525000</td>\n",
       "      <td>1963.637500</td>\n",
       "      <td>2.499374e+06</td>\n",
       "    </tr>\n",
       "    <tr>\n",
       "      <th>2</th>\n",
       "      <td>3.425101</td>\n",
       "      <td>4.172065</td>\n",
       "      <td>8.797571</td>\n",
       "      <td>3019.971660</td>\n",
       "      <td>7466.858300</td>\n",
       "      <td>1950.172065</td>\n",
       "      <td>8.807743e+05</td>\n",
       "    </tr>\n",
       "    <tr>\n",
       "      <th>3</th>\n",
       "      <td>3.000000</td>\n",
       "      <td>4.500000</td>\n",
       "      <td>9.000000</td>\n",
       "      <td>3748.000000</td>\n",
       "      <td>8597.500000</td>\n",
       "      <td>1998.000000</td>\n",
       "      <td>1.375006e+07</td>\n",
       "    </tr>\n",
       "    <tr>\n",
       "      <th>4</th>\n",
       "      <td>2.784799</td>\n",
       "      <td>2.489768</td>\n",
       "      <td>6.551833</td>\n",
       "      <td>1610.182820</td>\n",
       "      <td>5407.249606</td>\n",
       "      <td>1924.040477</td>\n",
       "      <td>3.528604e+05</td>\n",
       "    </tr>\n",
       "  </tbody>\n",
       "</table>\n",
       "</div>"
      ],
      "text/plain": [
       "         bedrooms  bathrooms      rooms  squareFootage       lotSize  \\\n",
       "cluster                                                                \n",
       "0        2.537921   1.807441   5.541593    1231.241418   5663.122625   \n",
       "1        3.887500   5.787500  10.450000    4670.662500  13813.525000   \n",
       "2        3.425101   4.172065   8.797571    3019.971660   7466.858300   \n",
       "3        3.000000   4.500000   9.000000    3748.000000   8597.500000   \n",
       "4        2.784799   2.489768   6.551833    1610.182820   5407.249606   \n",
       "\n",
       "           yearBuilt  priorSaleAmount  \n",
       "cluster                                \n",
       "0        1930.709883     1.111907e+05  \n",
       "1        1963.637500     2.499374e+06  \n",
       "2        1950.172065     8.807743e+05  \n",
       "3        1998.000000     1.375006e+07  \n",
       "4        1924.040477     3.528604e+05  "
      ]
     },
     "execution_count": 120,
     "metadata": {},
     "output_type": "execute_result"
    }
   ],
   "source": [
    "Y.groupby('cluster').mean()# cluster wise avg data"
   ]
  },
  {
   "cell_type": "code",
   "execution_count": 134,
   "metadata": {},
   "outputs": [
    {
     "name": "stdout",
     "output_type": "stream",
     "text": [
      "0.8797397994897784\n",
      "0.8584136121243214\n",
      "0.5755018982468273\n",
      "0.5629172194973703\n"
     ]
    }
   ],
   "source": [
    "\n",
    "# for this data it is best to have cluster of 2 as it has highest silhouette score\n",
    "for i in range(2,10):\n",
    "    kmn = KMeans(n_clusters=i, random_state=0).fit(Y)\n",
    "    label = kmn.labels_\n",
    "    print(silhouette_score(Y,label))"
   ]
  }
 ],
 "metadata": {
  "interpreter": {
   "hash": "b302cdd1e032ee910f5c889c3360c28564c92ad4f326fc3102e39fbe47faee66"
  },
  "kernelspec": {
   "display_name": "Python 3.9.7 ('base')",
   "language": "python",
   "name": "python3"
  },
  "language_info": {
   "codemirror_mode": {
    "name": "ipython",
    "version": 3
   },
   "file_extension": ".py",
   "mimetype": "text/x-python",
   "name": "python",
   "nbconvert_exporter": "python",
   "pygments_lexer": "ipython3",
   "version": "3.9.7"
  },
  "orig_nbformat": 4
 },
 "nbformat": 4,
 "nbformat_minor": 2
}
